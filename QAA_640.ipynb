{
 "cells": [
  {
   "cell_type": "markdown",
   "id": "23a6c433-24e2-41ee-a6e2-effdfd7ec61e",
   "metadata": {},
   "source": [
    "### QAA-640"
   ]
  },
  {
   "cell_type": "code",
   "execution_count": 3,
   "id": "64ed80a1-f803-4136-867f-02a30394b075",
   "metadata": {},
   "outputs": [],
   "source": [
    "import pandas as pd\n",
    "import matplotlib.pyplot as plt\n",
    "import numpy as np\n",
    "from scipy.interpolate import InterpolatedUnivariateSpline\n",
    "import math"
   ]
  },
  {
   "cell_type": "markdown",
   "id": "b116858d-ed43-469d-91ff-a3645ab8bf03",
   "metadata": {},
   "source": [
    "### Read in Rrs data"
   ]
  },
  {
   "cell_type": "code",
   "execution_count": 43,
   "id": "bbdda5b3-f8db-4027-814c-0a0fa2018a95",
   "metadata": {},
   "outputs": [
    {
     "data": {
      "text/html": [
       "<div>\n",
       "<style scoped>\n",
       "    .dataframe tbody tr th:only-of-type {\n",
       "        vertical-align: middle;\n",
       "    }\n",
       "\n",
       "    .dataframe tbody tr th {\n",
       "        vertical-align: top;\n",
       "    }\n",
       "\n",
       "    .dataframe thead th {\n",
       "        text-align: right;\n",
       "    }\n",
       "</style>\n",
       "<table border=\"1\" class=\"dataframe\">\n",
       "  <thead>\n",
       "    <tr style=\"text-align: right;\">\n",
       "      <th></th>\n",
       "      <th>Unnamed: 0</th>\n",
       "      <th>350</th>\n",
       "      <th>351</th>\n",
       "      <th>352</th>\n",
       "      <th>353</th>\n",
       "      <th>354</th>\n",
       "      <th>355</th>\n",
       "      <th>356</th>\n",
       "      <th>357</th>\n",
       "      <th>358</th>\n",
       "      <th>...</th>\n",
       "      <th>941</th>\n",
       "      <th>942</th>\n",
       "      <th>943</th>\n",
       "      <th>944</th>\n",
       "      <th>945</th>\n",
       "      <th>946</th>\n",
       "      <th>947</th>\n",
       "      <th>948</th>\n",
       "      <th>949</th>\n",
       "      <th>950</th>\n",
       "    </tr>\n",
       "  </thead>\n",
       "  <tbody>\n",
       "    <tr>\n",
       "      <th>0</th>\n",
       "      <td>6/30/22 10:00</td>\n",
       "      <td>0.004047</td>\n",
       "      <td>0.004024</td>\n",
       "      <td>0.004081</td>\n",
       "      <td>0.004229</td>\n",
       "      <td>0.004238</td>\n",
       "      <td>0.004254</td>\n",
       "      <td>0.004290</td>\n",
       "      <td>0.004399</td>\n",
       "      <td>0.004522</td>\n",
       "      <td>...</td>\n",
       "      <td>0.002303</td>\n",
       "      <td>0.002849</td>\n",
       "      <td>0.002787</td>\n",
       "      <td>0.002654</td>\n",
       "      <td>0.002514</td>\n",
       "      <td>0.002438</td>\n",
       "      <td>0.002305</td>\n",
       "      <td>0.002148</td>\n",
       "      <td>0.002360</td>\n",
       "      <td>0.002642</td>\n",
       "    </tr>\n",
       "    <tr>\n",
       "      <th>1</th>\n",
       "      <td>6/30/22 10:15</td>\n",
       "      <td>0.003783</td>\n",
       "      <td>0.003763</td>\n",
       "      <td>0.003820</td>\n",
       "      <td>0.003964</td>\n",
       "      <td>0.003973</td>\n",
       "      <td>0.003990</td>\n",
       "      <td>0.004024</td>\n",
       "      <td>0.004135</td>\n",
       "      <td>0.004260</td>\n",
       "      <td>...</td>\n",
       "      <td>0.002649</td>\n",
       "      <td>0.002802</td>\n",
       "      <td>0.003056</td>\n",
       "      <td>0.003416</td>\n",
       "      <td>0.003776</td>\n",
       "      <td>0.003579</td>\n",
       "      <td>0.003073</td>\n",
       "      <td>0.002479</td>\n",
       "      <td>0.002425</td>\n",
       "      <td>0.002604</td>\n",
       "    </tr>\n",
       "    <tr>\n",
       "      <th>2</th>\n",
       "      <td>6/30/22 10:30</td>\n",
       "      <td>0.003196</td>\n",
       "      <td>0.003170</td>\n",
       "      <td>0.003223</td>\n",
       "      <td>0.003362</td>\n",
       "      <td>0.003381</td>\n",
       "      <td>0.003406</td>\n",
       "      <td>0.003442</td>\n",
       "      <td>0.003545</td>\n",
       "      <td>0.003659</td>\n",
       "      <td>...</td>\n",
       "      <td>0.000866</td>\n",
       "      <td>0.000410</td>\n",
       "      <td>0.000423</td>\n",
       "      <td>0.000678</td>\n",
       "      <td>0.000941</td>\n",
       "      <td>0.001084</td>\n",
       "      <td>0.001192</td>\n",
       "      <td>0.001290</td>\n",
       "      <td>0.001489</td>\n",
       "      <td>0.001701</td>\n",
       "    </tr>\n",
       "    <tr>\n",
       "      <th>3</th>\n",
       "      <td>6/30/22 10:45</td>\n",
       "      <td>0.003252</td>\n",
       "      <td>0.003225</td>\n",
       "      <td>0.003279</td>\n",
       "      <td>0.003416</td>\n",
       "      <td>0.003437</td>\n",
       "      <td>0.003462</td>\n",
       "      <td>0.003498</td>\n",
       "      <td>0.003605</td>\n",
       "      <td>0.003725</td>\n",
       "      <td>...</td>\n",
       "      <td>0.001525</td>\n",
       "      <td>0.001846</td>\n",
       "      <td>0.001781</td>\n",
       "      <td>0.001627</td>\n",
       "      <td>0.001472</td>\n",
       "      <td>0.001449</td>\n",
       "      <td>0.001449</td>\n",
       "      <td>0.001449</td>\n",
       "      <td>0.001731</td>\n",
       "      <td>0.002077</td>\n",
       "    </tr>\n",
       "    <tr>\n",
       "      <th>4</th>\n",
       "      <td>6/30/22 11:00</td>\n",
       "      <td>0.003229</td>\n",
       "      <td>0.003220</td>\n",
       "      <td>0.003287</td>\n",
       "      <td>0.003432</td>\n",
       "      <td>0.003453</td>\n",
       "      <td>0.003480</td>\n",
       "      <td>0.003521</td>\n",
       "      <td>0.003633</td>\n",
       "      <td>0.003758</td>\n",
       "      <td>...</td>\n",
       "      <td>0.001897</td>\n",
       "      <td>0.001866</td>\n",
       "      <td>0.001849</td>\n",
       "      <td>0.001904</td>\n",
       "      <td>0.001950</td>\n",
       "      <td>0.001587</td>\n",
       "      <td>0.001280</td>\n",
       "      <td>0.001019</td>\n",
       "      <td>0.001065</td>\n",
       "      <td>0.001150</td>\n",
       "    </tr>\n",
       "  </tbody>\n",
       "</table>\n",
       "<p>5 rows × 602 columns</p>\n",
       "</div>"
      ],
      "text/plain": [
       "      Unnamed: 0       350       351       352       353       354       355  \\\n",
       "0  6/30/22 10:00  0.004047  0.004024  0.004081  0.004229  0.004238  0.004254   \n",
       "1  6/30/22 10:15  0.003783  0.003763  0.003820  0.003964  0.003973  0.003990   \n",
       "2  6/30/22 10:30  0.003196  0.003170  0.003223  0.003362  0.003381  0.003406   \n",
       "3  6/30/22 10:45  0.003252  0.003225  0.003279  0.003416  0.003437  0.003462   \n",
       "4  6/30/22 11:00  0.003229  0.003220  0.003287  0.003432  0.003453  0.003480   \n",
       "\n",
       "        356       357       358  ...       941       942       943       944  \\\n",
       "0  0.004290  0.004399  0.004522  ...  0.002303  0.002849  0.002787  0.002654   \n",
       "1  0.004024  0.004135  0.004260  ...  0.002649  0.002802  0.003056  0.003416   \n",
       "2  0.003442  0.003545  0.003659  ...  0.000866  0.000410  0.000423  0.000678   \n",
       "3  0.003498  0.003605  0.003725  ...  0.001525  0.001846  0.001781  0.001627   \n",
       "4  0.003521  0.003633  0.003758  ...  0.001897  0.001866  0.001849  0.001904   \n",
       "\n",
       "        945       946       947       948       949       950  \n",
       "0  0.002514  0.002438  0.002305  0.002148  0.002360  0.002642  \n",
       "1  0.003776  0.003579  0.003073  0.002479  0.002425  0.002604  \n",
       "2  0.000941  0.001084  0.001192  0.001290  0.001489  0.001701  \n",
       "3  0.001472  0.001449  0.001449  0.001449  0.001731  0.002077  \n",
       "4  0.001950  0.001587  0.001280  0.001019  0.001065  0.001150  \n",
       "\n",
       "[5 rows x 602 columns]"
      ]
     },
     "execution_count": 43,
     "metadata": {},
     "output_type": "execute_result"
    }
   ],
   "source": [
    "Rrs = pd.read_csv('/home/jovyan/Documents/UMCES/culture_IOPs/Phytochop_data/Trios_Rrs.csv', header=0)\n",
    "Rrs.head()"
   ]
  },
  {
   "cell_type": "markdown",
   "id": "cc87cf25-b0db-4f02-b226-8428bd01cce2",
   "metadata": {},
   "source": [
    "### Filter Rrs to 370-900nm"
   ]
  },
  {
   "cell_type": "code",
   "execution_count": 44,
   "id": "166d2d90-89d0-4b19-9182-c58c363b40de",
   "metadata": {},
   "outputs": [
    {
     "name": "stdout",
     "output_type": "stream",
     "text": [
      "(21, 531)\n"
     ]
    }
   ],
   "source": [
    "Rrs = Rrs.loc[:,'370':'900']\n",
    "Rrs.head()\n",
    "print(Rrs.shape)"
   ]
  },
  {
   "cell_type": "markdown",
   "id": "fe604818-057a-49d4-88e3-3f183ebf94c6",
   "metadata": {},
   "source": [
    "### Calculate median Rrs "
   ]
  },
  {
   "cell_type": "code",
   "execution_count": 45,
   "id": "91a32358-ab29-4c44-b83c-2a1835d35b5e",
   "metadata": {},
   "outputs": [
    {
     "data": {
      "text/plain": [
       "370    0.003070\n",
       "371    0.003128\n",
       "372    0.003160\n",
       "373    0.003173\n",
       "374    0.003233\n",
       "         ...   \n",
       "896    0.000865\n",
       "897    0.000887\n",
       "898    0.000893\n",
       "899    0.000867\n",
       "900    0.000849\n",
       "Length: 531, dtype: float64"
      ]
     },
     "execution_count": 45,
     "metadata": {},
     "output_type": "execute_result"
    }
   ],
   "source": [
    "Rrs_med = Rrs.median(axis=0)\n",
    "Rrs_med"
   ]
  },
  {
   "cell_type": "code",
   "execution_count": 46,
   "id": "50c1d404-22bc-4e20-85c2-fd7568157603",
   "metadata": {},
   "outputs": [],
   "source": [
    "Rrs_med.to_csv('/home/jovyan/Documents/UMCES/culture_IOPs/Phytochop_data/Trios_Rrs_med.csv', header=False)"
   ]
  },
  {
   "cell_type": "markdown",
   "id": "5ef4291a-4189-43f6-8cea-3a9d3e4a9c6e",
   "metadata": {},
   "source": [
    "### Declare wavelengths"
   ]
  },
  {
   "cell_type": "code",
   "execution_count": 8,
   "id": "57ee77b9-422d-45b9-b210-efa50608c32a",
   "metadata": {},
   "outputs": [
    {
     "name": "stdout",
     "output_type": "stream",
     "text": [
      "531\n",
      "<class 'numpy.ndarray'>\n"
     ]
    }
   ],
   "source": [
    "wv = Rrs.columns\n",
    "wv = np.array([eval(i) for i in wv])\n",
    "print(wv.size)\n",
    "print(type(wv))"
   ]
  },
  {
   "cell_type": "code",
   "execution_count": 9,
   "id": "f02a0017-9768-4e2c-8256-f497665d52e9",
   "metadata": {},
   "outputs": [
    {
     "data": {
      "image/png": "[encoded data removed]",
      "text/plain": [
       "<Figure size 432x288 with 1 Axes>"
      ]
     },
     "metadata": {
      "needs_background": "light"
     },
     "output_type": "display_data"
    }
   ],
   "source": [
    "for i in range(len(Rrs)):\n",
    "    plt.plot(wv, Rrs.iloc[i,:])\n",
    "    plt.plot(wv, Rrs_med, color='black')\n"
   ]
  },
  {
   "cell_type": "markdown",
   "id": "ef2186a5-0454-4cde-8bca-494b09a477e6",
   "metadata": {},
   "source": [
    "### Step 0. Rrs -> rrs"
   ]
  },
  {
   "cell_type": "code",
   "execution_count": 10,
   "id": "511ed6b0-6cfc-45af-b0b8-89d9b9c4ad89",
   "metadata": {},
   "outputs": [
    {
     "name": "stdout",
     "output_type": "stream",
     "text": [
      "370    0.005844\n",
      "371    0.005954\n",
      "372    0.006015\n",
      "373    0.006039\n",
      "374    0.006152\n",
      "         ...   \n",
      "896    0.001659\n",
      "897    0.001701\n",
      "898    0.001713\n",
      "899    0.001662\n",
      "900    0.001628\n",
      "Length: 531, dtype: float64\n"
     ]
    },
    {
     "data": {
      "text/plain": [
       "[<matplotlib.lines.Line2D at 0x7f4f92ec4070>]"
      ]
     },
     "execution_count": 10,
     "metadata": {},
     "output_type": "execute_result"
    },
    {
     "data": {
      "image/png": "[encoded data removed]",
      "text/plain": [
       "<Figure size 432x288 with 1 Axes>"
      ]
     },
     "metadata": {
      "needs_background": "light"
     },
     "output_type": "display_data"
    }
   ],
   "source": [
    "rrs = Rrs_med/(0.52 + 1.7*Rrs_med)\n",
    "print(rrs)\n",
    "plt.plot(wv, rrs)"
   ]
  },
  {
   "cell_type": "markdown",
   "id": "ffc8c126-f2bf-460f-b6cd-eb11008083ed",
   "metadata": {},
   "source": [
    "### Step 1. Derivation of u"
   ]
  },
  {
   "cell_type": "code",
   "execution_count": 11,
   "id": "655d53ff-60ac-4780-a6a6-64321ece6680",
   "metadata": {},
   "outputs": [
    {
     "name": "stdout",
     "output_type": "stream",
     "text": [
      "531\n"
     ]
    }
   ],
   "source": [
    "g0 = 0.0895\n",
    "g1 = 0.1247\n",
    "\n",
    "u = (-g0 + (g0**2 + 4*g1*rrs)**(1/2))/(2*g1)\n",
    "print(u.size)"
   ]
  },
  {
   "cell_type": "markdown",
   "id": "e67a66aa-ddb3-4664-8be7-4f86372fa217",
   "metadata": {},
   "source": [
    "### Step 2. Estimate a(640)"
   ]
  },
  {
   "cell_type": "code",
   "execution_count": 12,
   "id": "721ef8eb-3ff7-49a0-add1-daf6a78183ba",
   "metadata": {},
   "outputs": [],
   "source": [
    "def water_iops_PF_TScorr(wave,T,S):\n",
    "    # function to obtain seawater absorption and backscattering spectra\n",
    "    # pure water absorption from Pope and Frye\n",
    "    # pure water backscattering from Morel\n",
    "    # corrected for in situ temperature and salinity conditions\n",
    "\n",
    "    # TODO ask collin this is greater than 730 because \n",
    "    #if min(wave)<380 or max(wave)>730:\n",
    "    if min(wave<380) or max(wave)>900:\n",
    "        raise ValueError('input wavelengths  are beyond acceptable range')\n",
    "    else:\n",
    "        #Pope and Frye pure water absorption 380-730 nm, then Smith and Baker 730-800 nm\n",
    "        wl_water =np.array([380,382.5,385,387.5,390,392.5,395,397.5,400,402.5,405,407.5,410,412.5,415,417.5,420,422.5,425,427.5,430,432.5,435,437.5,440,442.5,445,447.5,450,452.5,455,457.5,460,462.5,465,467.5,470,472.5,475,477.5,480,482.5,485,487.5,490,492.5,495,497.5,500,502.5,505,507.5,510,512.5,515,517.5,520,522.5,525,527.5,530,532.5,535,537.5,540,542.5,545,547.5,550,552.5,555,557.5,560,562.5,565,567.5,570,572.5,575,577.5,580,582.5,585,587.5,590,592.5,595,597.5,600,602.5,605,607.5,610,612.5,615,617.5,620,622.5,625,627.5,630,632.5,635,637.5,640,642.5,645,647.5,650,652.5,655,657.5,660,662.5,665,667.5,670,672.5,675,677.5,680,682.5,685,687.5,690,692.5,695,697.5,700,702.5,705,707.5,710,712.5,715,717.5,720,722.5,725,727.5,730,732.5,735.0,737.5,740.0,742.5,745.0,747.5,750.0,752.5,755.0,757.5,760.0,762.5,765.0,767.5,770.0,772.5,775.0,777.5,780.0,782.5,785.0,787.5,790.0,792.5,795.0,797.5,800.0])\n",
    "        a_water  =np.array([0.01137,0.010044,0.00941,0.00917,0.00851,0.00829,0.00813,0.00775,0.00663,0.00579,0.0053,0.00503,0.00473,0.00452,0.00444,0.00442,0.00454,0.00474,0.00478,0.00482,0.00495,0.00504,0.0053,0.0058,0.00635,0.00696,0.00751,0.0083,0.00922,0.00969,0.00962,0.00957,0.00979,0.01005,0.01011,0.0102,0.0106,0.0109,0.0114,0.0121,0.0127,0.0131,0.0136,0.0144,0.015,0.0162,0.0173,0.0191,0.0204,0.0228,0.0256,0.028,0.0325,0.0372,0.0396,0.0399,0.0409,0.0416,0.0417,0.0428,0.0434,0.0447,0.0452,0.0466,0.0474,0.0489,0.0511,0.0537,0.0565,0.0593,0.0596,0.0606,0.0619,0.064,0.0642,0.0672,0.0695,0.0733,0.0772,0.0836,0.0896,0.0989,0.11,0.122,0.1351,0.1516,0.1672,0.1925,0.2224,0.247,0.2577,0.2629,0.2644,0.2665,0.2678,0.2707,0.2755,0.281,0.2834,0.2904,0.2916,0.2995,0.3012,0.3077,0.3108,0.322,0.325,0.335,0.34,0.358,0.371,0.393,0.41,0.424,0.429,0.436,0.439,0.448,0.448,0.461,0.465,0.478,0.486,0.502,0.516,0.538,0.559,0.592,0.624,0.663,0.704,0.756,0.827,0.914,1.007,1.119,1.231,1.356,1.489,1.678,1.7845,1.9333,2.0822,2.2311,2.3800,2.4025,2.4250,2.4475,2.4700,2.4900,2.5100,2.5300,2.5500,2.5400,2.5300,2.5200,2.5100,2.4725,2.4350,2.3975,2.3600,2.3100,2.2600,2.2100,2.1600,2.1375,2.1150,2.0925,2.0700])\n",
    "        fx       = InterpolatedUnivariateSpline(wl_water,a_water, k=1) # a linear spline interpolator\n",
    "        a_pw     = fx(wave)\n",
    "\n",
    "        #Morel water backscattering\n",
    "        #wl_b=[380  390 400 410 420 430 440 450 460 470 480 490 500 510 520 530 540 550 560 570 580 590 600 610 620 630 640 650 660 670 680 690 700 750];\n",
    "        #b_water=[0.0073    0.0066  0.0058  0.0052  0.0047  0.0043  0.0039  0.0035  0.0032  0.0029  0.0027  0.0024  0.0022  0.002   0.0018  0.0017  0.0016  0.0015  0.0013  0.0013  0.0012  0.0011  0.00101 0.00094 0.00088 0.00082 0.00076 0.00071 0.00067 0.00063 0.00059 0.00055 0.00052 0.0005];\n",
    "        #%choose pure water scattering function (divide by two for back-scattering):\n",
    "        #bb_pw=0.5*interp1(wl_b,b_water,wl,'linear');\n",
    "\n",
    "        #log fit water backscattering\n",
    "        bb_logfit=.0037000*(380**4.3)/(wave**4.3);\n",
    "\n",
    "        #salinity correct:\n",
    "        if S>0:\n",
    "            bb_sw=((1+0.01*S)*bb_logfit)\n",
    "        else:\n",
    "            bb_sw=bb_logfit\n",
    "\n",
    "        #temp and salinity correction for water absorption (need to know at what T it was measured): \n",
    "        if S==0:\n",
    "            S=35\n",
    "        if T==0:\n",
    "            T=22\n",
    "        T_pope=22.0\n",
    "\n",
    "        #parameters for temp and salinity callibration (From Pegau et al Applied optics 1997):\n",
    "        M=np.array([.18, .17, .52, 1.4, 4.6, 2.1, 4.3, 9.6, 1.6, 34, 18, 42])\n",
    "        sig=np.array([18, 15, 14, 20, 17.5, 15, 17, 22, 6, 18, 20, 25])\n",
    "        lamda_c=np.array([453, 485, 517, 558, 610, 638, 661, 697, 740, 744, 775, 795])\n",
    "        M_T=np.array([0.0045,0.002,0.0045,0.002,0.0045,-0.004,0.002,-0.001,0.0045,0.0062,-0.001,-0.001])\n",
    "\n",
    "        #computing the correction per degree C\n",
    "#         phi_T = []\n",
    "#         for i in range(len(wave)):\n",
    "#             phi_T.append(M_T*M/sig*np.exp(-(wave[i]-lamda_c)**2/2/sig**2))\n",
    "#         phi_T = np.array(phi_T)\n",
    "\n",
    "        phi_T = []\n",
    "        for i in range(len(wave)):\n",
    "            sum_list = []\n",
    "            for j in range(len(M)):\n",
    "                sum_list.append(M_T[j]*M[j]/sig[j]*math.exp(-(wave[i]-lamda_c[j])**2/2/sig[j]**2))\n",
    "            phi_T.append(sum(sum_list))\n",
    "        phi_T = np.array(phi_T)\n",
    "        \n",
    "        #salinity correction based on Pegau and Zaneveld 1997:\n",
    "        wls=np.array([412, 440, 488, 510, 532, 555, 650, 676, 715, 750])\n",
    "        phi_S_PZ=np.array([0.00012,-0.00002,-0.00002,-0.00002,-0.00003,-0.00003,0,-0.00002,-0.00027,0.00064])\n",
    "\n",
    "        #interpolate to compute salinity correction per psu\n",
    "        # TODO ask Collin this is actually beyond the limits\n",
    "        fx = InterpolatedUnivariateSpline(wls,phi_S_PZ, k=1) # a linear spline interpolator\n",
    "        phi_S   = fx(wave)\n",
    "\n",
    "        #temperature and salinity corrections:\n",
    "        a_sw=(a_pw+phi_T.T*(T-T_pope)+phi_S*S)\n",
    "\n",
    "        return(a_sw, bb_sw)"
   ]
  },
  {
   "cell_type": "code",
   "execution_count": 13,
   "id": "a8fe6820-b5c5-4057-b1e4-5d6f70581c75",
   "metadata": {},
   "outputs": [
    {
     "name": "stdout",
     "output_type": "stream",
     "text": [
      "531\n",
      "531\n"
     ]
    },
    {
     "data": {
      "text/plain": [
       "[<matplotlib.lines.Line2D at 0x7f4f93042d90>]"
      ]
     },
     "execution_count": 13,
     "metadata": {},
     "output_type": "execute_result"
    },
    {
     "data": {
      "image/png": "[encoded data removed]",
      "text/plain": [
       "<Figure size 432x288 with 1 Axes>"
      ]
     },
     "metadata": {
      "needs_background": "light"
     },
     "output_type": "display_data"
    },
    {
     "data": {
      "image/png": "[encoded data removed]",
      "text/plain": [
       "<Figure size 432x288 with 1 Axes>"
      ]
     },
     "metadata": {
      "needs_background": "light"
     },
     "output_type": "display_data"
    }
   ],
   "source": [
    "[a_w,bb_w]= water_iops_PF_TScorr(wave=wv,T=24,S=8) # input temperature and salinity\n",
    "\n",
    "#make into pandas series to include wv\n",
    "a_w = pd.Series(a_w, wv)\n",
    "a_w.index = a_w.index.map(str) #change index from int to an object\n",
    "print(a_w.size)\n",
    "bb_w = pd.Series(bb_w, wv)\n",
    "bb_w.index = bb_w.index.map(str)\n",
    "print(bb_w.size)\n",
    "\n",
    "plt.plot(wv, a_w)\n",
    "plt.figure()\n",
    "plt.plot(wv, bb_w)"
   ]
  },
  {
   "cell_type": "code",
   "execution_count": 14,
   "id": "f23ead3e-8552-4143-8ef3-0eccb410b485",
   "metadata": {},
   "outputs": [
    {
     "name": "stdout",
     "output_type": "stream",
     "text": [
      "-0.5635359826496491\n"
     ]
    }
   ],
   "source": [
    "chi = np.log10((rrs.loc['443']+rrs.loc['490'])/(rrs.loc['640']+5*(rrs.loc['667']/rrs.loc['490'])*rrs.loc['667']))\n",
    "print(chi)        \n",
    "          "
   ]
  },
  {
   "cell_type": "code",
   "execution_count": 15,
   "id": "19130965-0f0b-464c-ac28-0b0538d6a899",
   "metadata": {},
   "outputs": [
    {
     "name": "stdout",
     "output_type": "stream",
     "text": [
      "0.6090844647377849\n"
     ]
    }
   ],
   "source": [
    "a_640 = a_w.loc['640'] + 10**(-1.146-(1.366*chi)-(0.469*chi**2))\n",
    "print(a_640)"
   ]
  },
  {
   "cell_type": "markdown",
   "id": "fba9e744-2e11-46bc-b9dc-f016648e9b4f",
   "metadata": {},
   "source": [
    "### Step 3. Calculate bbp(640)"
   ]
  },
  {
   "cell_type": "code",
   "execution_count": 16,
   "id": "7f434ed0-68aa-4bbd-a696-7363dfaf3311",
   "metadata": {},
   "outputs": [
    {
     "name": "stdout",
     "output_type": "stream",
     "text": [
      "0.11285096734538452\n"
     ]
    }
   ],
   "source": [
    "bbp_640 = u.loc['640']*a_640\n",
    "print(bbp_640)"
   ]
  },
  {
   "cell_type": "markdown",
   "id": "8eb5f2fc-d67a-4400-8942-e4db9a3057bc",
   "metadata": {},
   "source": [
    "### Step 4. Estimate exponent of bbp"
   ]
  },
  {
   "cell_type": "code",
   "execution_count": 17,
   "id": "8002507a-6e50-4de5-9c07-51f8743f1ea8",
   "metadata": {},
   "outputs": [
    {
     "name": "stdout",
     "output_type": "stream",
     "text": [
      "0.48672453742750865\n"
     ]
    }
   ],
   "source": [
    "eta = 2*(1-1.2*math.exp(-0.9*(rrs.loc['443']/rrs.loc['640'])))\n",
    "print(eta)"
   ]
  },
  {
   "cell_type": "markdown",
   "id": "5ec59b86-699d-4a56-a9ad-121ed6fecffa",
   "metadata": {},
   "source": [
    "### Step 5. Estimate bbp"
   ]
  },
  {
   "cell_type": "code",
   "execution_count": 18,
   "id": "d466516e-20d9-49f0-896a-d6f2d9941a1b",
   "metadata": {},
   "outputs": [
    {
     "data": {
      "text/plain": [
       "[<matplotlib.lines.Line2D at 0x7f4f92e37dc0>]"
      ]
     },
     "execution_count": 18,
     "metadata": {},
     "output_type": "execute_result"
    },
    {
     "data": {
      "image/png": "[encoded data removed]",
      "text/plain": [
       "<Figure size 432x288 with 1 Axes>"
      ]
     },
     "metadata": {
      "needs_background": "light"
     },
     "output_type": "display_data"
    }
   ],
   "source": [
    "bbp = bbp_640*(640/wv)**eta\n",
    "plt.plot(wv, bbp)"
   ]
  },
  {
   "cell_type": "markdown",
   "id": "2505e119-eb69-47fd-8cd2-a11c78589a04",
   "metadata": {},
   "source": [
    "### Step 6. Estimate a"
   ]
  },
  {
   "cell_type": "code",
   "execution_count": 19,
   "id": "36e29e28-9fe3-4455-88a0-9eb04469c76d",
   "metadata": {},
   "outputs": [
    {
     "name": "stdout",
     "output_type": "stream",
     "text": [
      "531\n"
     ]
    },
    {
     "data": {
      "text/plain": [
       "[<matplotlib.lines.Line2D at 0x7f4f92e16dc0>]"
      ]
     },
     "execution_count": 19,
     "metadata": {},
     "output_type": "execute_result"
    },
    {
     "data": {
      "image/png": "[encoded data removed]",
      "text/plain": [
       "<Figure size 432x288 with 1 Axes>"
      ]
     },
     "metadata": {
      "needs_background": "light"
     },
     "output_type": "display_data"
    }
   ],
   "source": [
    "a = ((1-u)*(bb_w + bbp))/u\n",
    "print(a.size)\n",
    "plt.plot(wv, a)"
   ]
  },
  {
   "cell_type": "markdown",
   "id": "f2a22bcc-4463-4a43-8e9e-9a4f1dd4f814",
   "metadata": {},
   "source": [
    "### Step 7. Calculate zeta (ratio of phyto abs)"
   ]
  },
  {
   "cell_type": "code",
   "execution_count": 20,
   "id": "744143ae-553f-48e2-ac4c-b3d7e8c89def",
   "metadata": {},
   "outputs": [
    {
     "name": "stdout",
     "output_type": "stream",
     "text": [
      "0.9197856496080435\n"
     ]
    }
   ],
   "source": [
    "zeta = 0.74 + (0.2/(0.6+(rrs.loc['443']/rrs.loc['640'])))\n",
    "print(zeta)"
   ]
  },
  {
   "cell_type": "markdown",
   "id": "2fe0ceea-ce59-4d1e-9679-15f5f660397c",
   "metadata": {},
   "source": [
    "### Step 8. Calculate xi (ratio of gelbstoff abs)"
   ]
  },
  {
   "cell_type": "code",
   "execution_count": 21,
   "id": "1867a845-fb74-415e-a11b-d365aab37267",
   "metadata": {},
   "outputs": [
    {
     "name": "stdout",
     "output_type": "stream",
     "text": [
      "0.016797856496080434\n"
     ]
    }
   ],
   "source": [
    "#spectral slope:\n",
    "S = 0.015 + (0.002/(0.6 + (rrs.loc['443']/rrs.loc['640'])))\n",
    "print(S)"
   ]
  },
  {
   "cell_type": "code",
   "execution_count": 22,
   "id": "82ab4b68-5e7c-4f41-aa7f-790b25eaebec",
   "metadata": {},
   "outputs": [
    {
     "name": "stdout",
     "output_type": "stream",
     "text": [
      "1.711775965485401\n"
     ]
    }
   ],
   "source": [
    "xi = math.e**(S*(443-411))\n",
    "print(xi)"
   ]
  },
  {
   "cell_type": "markdown",
   "id": "c8fd5d60-24ca-4922-b6bb-b3349a854e4b",
   "metadata": {},
   "source": [
    "### Step 9. Calcualte adg(443)"
   ]
  },
  {
   "cell_type": "code",
   "execution_count": 23,
   "id": "e6ebc91d-d7fc-40a7-910c-0f854acac9b0",
   "metadata": {},
   "outputs": [
    {
     "name": "stdout",
     "output_type": "stream",
     "text": [
      "0.6606871456723709\n"
     ]
    }
   ],
   "source": [
    "adg_443 = ((a.loc['411'] - zeta * a.loc['443']) - (a_w.loc['411'] - zeta * a_w.loc['443']))/(xi - zeta)\n",
    "print(adg_443)"
   ]
  },
  {
   "cell_type": "code",
   "execution_count": 24,
   "id": "cb6f372f-26e1-4eb7-ad8c-9e75a9eff907",
   "metadata": {},
   "outputs": [
    {
     "data": {
      "text/plain": [
       "[<matplotlib.lines.Line2D at 0x7f4f92d76c70>]"
      ]
     },
     "execution_count": 24,
     "metadata": {},
     "output_type": "execute_result"
    },
    {
     "data": {
      "image/png": "[encoded data removed]",
      "text/plain": [
       "<Figure size 432x288 with 1 Axes>"
      ]
     },
     "metadata": {
      "needs_background": "light"
     },
     "output_type": "display_data"
    }
   ],
   "source": [
    "ag = adg_443 * np.exp(-S*(wv[30:359]-443))             \n",
    "#ag\n",
    "plt.plot(wv[30:359], ag)"
   ]
  },
  {
   "cell_type": "markdown",
   "id": "93d1d806-9e5c-412f-9f4a-5e4c093524c0",
   "metadata": {},
   "source": [
    "### Step 10. Calculate aph"
   ]
  },
  {
   "cell_type": "code",
   "execution_count": 25,
   "id": "098cf990-c335-4271-8073-bbf8ea83d836",
   "metadata": {},
   "outputs": [
    {
     "name": "stdout",
     "output_type": "stream",
     "text": [
      "531\n"
     ]
    },
    {
     "data": {
      "text/plain": [
       "[<matplotlib.lines.Line2D at 0x7f4f92d62b50>]"
      ]
     },
     "execution_count": 25,
     "metadata": {},
     "output_type": "execute_result"
    },
    {
     "data": {
      "image/png": "[encoded data removed]",
      "text/plain": [
       "<Figure size 720x504 with 1 Axes>"
      ]
     },
     "metadata": {
      "needs_background": "light"
     },
     "output_type": "display_data"
    }
   ],
   "source": [
    "aph = a - a_w - (adg_443*math.e**(-S*wv-443))\n",
    "print(aph.size)\n",
    "\n",
    "fig, ax = plt.subplots(figsize=(10,7))\n",
    "ax.set_ylim(0,2.5)\n",
    "plt.plot(wv[30:359], aph.loc['400':'728'])"
   ]
  },
  {
   "cell_type": "code",
   "execution_count": 113,
   "id": "a4f5ead9-eb72-4223-9056-bf9b35344333",
   "metadata": {},
   "outputs": [
    {
     "data": {
      "text/html": [
       "<div>\n",
       "<style scoped>\n",
       "    .dataframe tbody tr th:only-of-type {\n",
       "        vertical-align: middle;\n",
       "    }\n",
       "\n",
       "    .dataframe tbody tr th {\n",
       "        vertical-align: top;\n",
       "    }\n",
       "\n",
       "    .dataframe thead th {\n",
       "        text-align: right;\n",
       "    }\n",
       "</style>\n",
       "<table border=\"1\" class=\"dataframe\">\n",
       "  <thead>\n",
       "    <tr style=\"text-align: right;\">\n",
       "      <th></th>\n",
       "      <th>ap</th>\n",
       "    </tr>\n",
       "    <tr>\n",
       "      <th>wv</th>\n",
       "      <th></th>\n",
       "    </tr>\n",
       "  </thead>\n",
       "  <tbody>\n",
       "    <tr>\n",
       "      <th>370</th>\n",
       "      <td>3.202945</td>\n",
       "    </tr>\n",
       "    <tr>\n",
       "      <th>371</th>\n",
       "      <td>3.141799</td>\n",
       "    </tr>\n",
       "    <tr>\n",
       "      <th>372</th>\n",
       "      <td>3.107125</td>\n",
       "    </tr>\n",
       "    <tr>\n",
       "      <th>373</th>\n",
       "      <td>3.092283</td>\n",
       "    </tr>\n",
       "    <tr>\n",
       "      <th>374</th>\n",
       "      <td>3.033201</td>\n",
       "    </tr>\n",
       "    <tr>\n",
       "      <th>...</th>\n",
       "      <td>...</td>\n",
       "    </tr>\n",
       "    <tr>\n",
       "      <th>896</th>\n",
       "      <td>7.203930</td>\n",
       "    </tr>\n",
       "    <tr>\n",
       "      <th>897</th>\n",
       "      <td>7.005944</td>\n",
       "    </tr>\n",
       "    <tr>\n",
       "      <th>898</th>\n",
       "      <td>6.951661</td>\n",
       "    </tr>\n",
       "    <tr>\n",
       "      <th>899</th>\n",
       "      <td>7.207437</td>\n",
       "    </tr>\n",
       "    <tr>\n",
       "      <th>900</th>\n",
       "      <td>7.390787</td>\n",
       "    </tr>\n",
       "  </tbody>\n",
       "</table>\n",
       "<p>531 rows × 1 columns</p>\n",
       "</div>"
      ],
      "text/plain": [
       "           ap\n",
       "wv           \n",
       "370  3.202945\n",
       "371  3.141799\n",
       "372  3.107125\n",
       "373  3.092283\n",
       "374  3.033201\n",
       "..        ...\n",
       "896  7.203930\n",
       "897  7.005944\n",
       "898  6.951661\n",
       "899  7.207437\n",
       "900  7.390787\n",
       "\n",
       "[531 rows x 1 columns]"
      ]
     },
     "execution_count": 113,
     "metadata": {},
     "output_type": "execute_result"
    }
   ],
   "source": [
    "aph = pd.DataFrame(aph,columns=['ap'])\n",
    "aph.index.name = 'wv'\n",
    "aph"
   ]
  },
  {
   "cell_type": "markdown",
   "id": "637947ba-9230-4a54-981e-86de09536bed",
   "metadata": {},
   "source": [
    "### Read in acs ap"
   ]
  },
  {
   "cell_type": "code",
   "execution_count": 26,
   "id": "b2661c49-761d-4b20-a480-0965220494ea",
   "metadata": {},
   "outputs": [
    {
     "data": {
      "text/html": [
       "<div>\n",
       "<style scoped>\n",
       "    .dataframe tbody tr th:only-of-type {\n",
       "        vertical-align: middle;\n",
       "    }\n",
       "\n",
       "    .dataframe tbody tr th {\n",
       "        vertical-align: top;\n",
       "    }\n",
       "\n",
       "    .dataframe thead th {\n",
       "        text-align: right;\n",
       "    }\n",
       "</style>\n",
       "<table border=\"1\" class=\"dataframe\">\n",
       "  <thead>\n",
       "    <tr style=\"text-align: right;\">\n",
       "      <th></th>\n",
       "      <th>wv</th>\n",
       "      <th>ap</th>\n",
       "    </tr>\n",
       "  </thead>\n",
       "  <tbody>\n",
       "    <tr>\n",
       "      <th>0</th>\n",
       "      <td>399.1</td>\n",
       "      <td>1.372581</td>\n",
       "    </tr>\n",
       "    <tr>\n",
       "      <th>1</th>\n",
       "      <td>402.1</td>\n",
       "      <td>1.392407</td>\n",
       "    </tr>\n",
       "    <tr>\n",
       "      <th>2</th>\n",
       "      <td>406.4</td>\n",
       "      <td>1.389193</td>\n",
       "    </tr>\n",
       "    <tr>\n",
       "      <th>3</th>\n",
       "      <td>409.6</td>\n",
       "      <td>1.388079</td>\n",
       "    </tr>\n",
       "    <tr>\n",
       "      <th>4</th>\n",
       "      <td>413.0</td>\n",
       "      <td>1.388794</td>\n",
       "    </tr>\n",
       "    <tr>\n",
       "      <th>...</th>\n",
       "      <td>...</td>\n",
       "      <td>...</td>\n",
       "    </tr>\n",
       "    <tr>\n",
       "      <th>75</th>\n",
       "      <td>712.9</td>\n",
       "      <td>0.021132</td>\n",
       "    </tr>\n",
       "    <tr>\n",
       "      <th>76</th>\n",
       "      <td>716.8</td>\n",
       "      <td>0.012238</td>\n",
       "    </tr>\n",
       "    <tr>\n",
       "      <th>77</th>\n",
       "      <td>720.8</td>\n",
       "      <td>0.005294</td>\n",
       "    </tr>\n",
       "    <tr>\n",
       "      <th>78</th>\n",
       "      <td>724.8</td>\n",
       "      <td>0.001738</td>\n",
       "    </tr>\n",
       "    <tr>\n",
       "      <th>79</th>\n",
       "      <td>728.4</td>\n",
       "      <td>0.000000</td>\n",
       "    </tr>\n",
       "  </tbody>\n",
       "</table>\n",
       "<p>80 rows × 2 columns</p>\n",
       "</div>"
      ],
      "text/plain": [
       "       wv        ap\n",
       "0   399.1  1.372581\n",
       "1   402.1  1.392407\n",
       "2   406.4  1.389193\n",
       "3   409.6  1.388079\n",
       "4   413.0  1.388794\n",
       "..    ...       ...\n",
       "75  712.9  0.021132\n",
       "76  716.8  0.012238\n",
       "77  720.8  0.005294\n",
       "78  724.8  0.001738\n",
       "79  728.4  0.000000\n",
       "\n",
       "[80 rows x 2 columns]"
      ]
     },
     "execution_count": 26,
     "metadata": {},
     "output_type": "execute_result"
    }
   ],
   "source": [
    "acs_ap = pd.read_csv('/home/jovyan/Documents/UMCES/culture_IOPs/Phytochop_data/acs_ap.csv')\n",
    "acs_ap\n"
   ]
  },
  {
   "cell_type": "code",
   "execution_count": 88,
   "id": "ca184213-eb81-4955-92df-e19b41405e08",
   "metadata": {},
   "outputs": [],
   "source": [
    "acs_ap_noscattcorr = pd.read_csv('/home/jovyan/Documents/UMCES/culture_IOPs/Phytochop_data/acs_ap_noscattcorr.csv')\n"
   ]
  },
  {
   "cell_type": "markdown",
   "id": "8a1339b2-5dc1-43ef-8192-bca7cbf11b41",
   "metadata": {},
   "source": [
    "### Plot QAA ap and acs ap"
   ]
  },
  {
   "cell_type": "code",
   "execution_count": 27,
   "id": "dd86096a-bf9b-4117-a9f1-b8e0bfc5a987",
   "metadata": {},
   "outputs": [
    {
     "data": {
      "text/plain": [
       "<matplotlib.legend.Legend at 0x7f4f92ccaca0>"
      ]
     },
     "execution_count": 27,
     "metadata": {},
     "output_type": "execute_result"
    },
    {
     "data": {
      "image/png": "[encoded data removed]",
      "text/plain": [
       "<Figure size 432x288 with 1 Axes>"
      ]
     },
     "metadata": {
      "needs_background": "light"
     },
     "output_type": "display_data"
    }
   ],
   "source": [
    "plt.plot(acs_ap.wv, acs_ap.ap, color='blue', label='acs ap scatt corr')\n",
    "#plt.plot(acs_ap_noscattcorr.wv, acs_ap_noscattcorr.ap, color='green', label='acs ap no scatt corr')\n",
    "plt.plot(wv[30:359], aph.loc['400':'728'], color='black', label='QAA ap')\n",
    "plt.plot(wv[30:359], ag, label='QAA CDOM')\n",
    "plt.legend()\n"
   ]
  },
  {
   "cell_type": "code",
   "execution_count": 98,
   "id": "cd15857f-a614-471b-bb13-379fec668f01",
   "metadata": {},
   "outputs": [
    {
     "name": "stdout",
     "output_type": "stream",
     "text": [
      "(80,)\n",
      "(531,)\n"
     ]
    }
   ],
   "source": [
    "print(acs_ap_noscattcorr.ap.shape)\n",
    "print(aph.shape)"
   ]
  },
  {
   "cell_type": "code",
   "execution_count": 116,
   "id": "47f93ab1-4b3f-47f2-a3cf-03d3c60af81d",
   "metadata": {},
   "outputs": [
    {
     "ename": "AttributeError",
     "evalue": "'DataFrame' object has no attribute 'wv'",
     "output_type": "error",
     "traceback": [
      "\u001b[0;31m---------------------------------------------------------------------------\u001b[0m",
      "\u001b[0;31mAttributeError\u001b[0m                            Traceback (most recent call last)",
      "\u001b[0;32m<ipython-input-116-ce495e2ae26a>\u001b[0m in \u001b[0;36m<module>\u001b[0;34m\u001b[0m\n\u001b[0;32m----> 1\u001b[0;31m \u001b[0maph\u001b[0m\u001b[0;34m.\u001b[0m\u001b[0mwv\u001b[0m\u001b[0;34m\u001b[0m\u001b[0;34m\u001b[0m\u001b[0m\n\u001b[0m",
      "\u001b[0;32m/srv/conda/envs/notebook/lib/python3.8/site-packages/pandas/core/generic.py\u001b[0m in \u001b[0;36m__getattr__\u001b[0;34m(self, name)\u001b[0m\n\u001b[1;32m   5463\u001b[0m             \u001b[0;32mif\u001b[0m \u001b[0mself\u001b[0m\u001b[0;34m.\u001b[0m\u001b[0m_info_axis\u001b[0m\u001b[0;34m.\u001b[0m\u001b[0m_can_hold_identifiers_and_holds_name\u001b[0m\u001b[0;34m(\u001b[0m\u001b[0mname\u001b[0m\u001b[0;34m)\u001b[0m\u001b[0;34m:\u001b[0m\u001b[0;34m\u001b[0m\u001b[0;34m\u001b[0m\u001b[0m\n\u001b[1;32m   5464\u001b[0m                 \u001b[0;32mreturn\u001b[0m \u001b[0mself\u001b[0m\u001b[0;34m[\u001b[0m\u001b[0mname\u001b[0m\u001b[0;34m]\u001b[0m\u001b[0;34m\u001b[0m\u001b[0;34m\u001b[0m\u001b[0m\n\u001b[0;32m-> 5465\u001b[0;31m             \u001b[0;32mreturn\u001b[0m \u001b[0mobject\u001b[0m\u001b[0;34m.\u001b[0m\u001b[0m__getattribute__\u001b[0m\u001b[0;34m(\u001b[0m\u001b[0mself\u001b[0m\u001b[0;34m,\u001b[0m \u001b[0mname\u001b[0m\u001b[0;34m)\u001b[0m\u001b[0;34m\u001b[0m\u001b[0;34m\u001b[0m\u001b[0m\n\u001b[0m\u001b[1;32m   5466\u001b[0m \u001b[0;34m\u001b[0m\u001b[0m\n\u001b[1;32m   5467\u001b[0m     \u001b[0;32mdef\u001b[0m \u001b[0m__setattr__\u001b[0m\u001b[0;34m(\u001b[0m\u001b[0mself\u001b[0m\u001b[0;34m,\u001b[0m \u001b[0mname\u001b[0m\u001b[0;34m:\u001b[0m \u001b[0mstr\u001b[0m\u001b[0;34m,\u001b[0m \u001b[0mvalue\u001b[0m\u001b[0;34m)\u001b[0m \u001b[0;34m->\u001b[0m \u001b[0;32mNone\u001b[0m\u001b[0;34m:\u001b[0m\u001b[0;34m\u001b[0m\u001b[0;34m\u001b[0m\u001b[0m\n",
      "\u001b[0;31mAttributeError\u001b[0m: 'DataFrame' object has no attribute 'wv'"
     ]
    }
   ],
   "source": [
    "aph.wv"
   ]
  },
  {
   "cell_type": "code",
   "execution_count": 117,
   "id": "326c64f1-7eaf-4afd-915c-91af308c2205",
   "metadata": {},
   "outputs": [
    {
     "ename": "UFuncTypeError",
     "evalue": "ufunc 'subtract' did not contain a loop with signature matching types (dtype('<U32'), dtype('<U32')) -> dtype('<U32')",
     "output_type": "error",
     "traceback": [
      "\u001b[0;31m---------------------------------------------------------------------------\u001b[0m",
      "\u001b[0;31mUFuncTypeError\u001b[0m                            Traceback (most recent call last)",
      "\u001b[0;32m/srv/conda/envs/notebook/lib/python3.8/site-packages/pandas/core/ops/array_ops.py\u001b[0m in \u001b[0;36m_na_arithmetic_op\u001b[0;34m(left, right, op, is_cmp)\u001b[0m\n\u001b[1;32m    141\u001b[0m     \u001b[0;32mtry\u001b[0m\u001b[0;34m:\u001b[0m\u001b[0;34m\u001b[0m\u001b[0;34m\u001b[0m\u001b[0m\n\u001b[0;32m--> 142\u001b[0;31m         \u001b[0mresult\u001b[0m \u001b[0;34m=\u001b[0m \u001b[0mexpressions\u001b[0m\u001b[0;34m.\u001b[0m\u001b[0mevaluate\u001b[0m\u001b[0;34m(\u001b[0m\u001b[0mop\u001b[0m\u001b[0;34m,\u001b[0m \u001b[0mleft\u001b[0m\u001b[0;34m,\u001b[0m \u001b[0mright\u001b[0m\u001b[0;34m)\u001b[0m\u001b[0;34m\u001b[0m\u001b[0;34m\u001b[0m\u001b[0m\n\u001b[0m\u001b[1;32m    143\u001b[0m     \u001b[0;32mexcept\u001b[0m \u001b[0mTypeError\u001b[0m\u001b[0;34m:\u001b[0m\u001b[0;34m\u001b[0m\u001b[0;34m\u001b[0m\u001b[0m\n",
      "\u001b[0;32m/srv/conda/envs/notebook/lib/python3.8/site-packages/pandas/core/computation/expressions.py\u001b[0m in \u001b[0;36mevaluate\u001b[0;34m(op, a, b, use_numexpr)\u001b[0m\n\u001b[1;32m    234\u001b[0m             \u001b[0;31m# error: \"None\" not callable\u001b[0m\u001b[0;34m\u001b[0m\u001b[0;34m\u001b[0m\u001b[0;34m\u001b[0m\u001b[0m\n\u001b[0;32m--> 235\u001b[0;31m             \u001b[0;32mreturn\u001b[0m \u001b[0m_evaluate\u001b[0m\u001b[0;34m(\u001b[0m\u001b[0mop\u001b[0m\u001b[0;34m,\u001b[0m \u001b[0mop_str\u001b[0m\u001b[0;34m,\u001b[0m \u001b[0ma\u001b[0m\u001b[0;34m,\u001b[0m \u001b[0mb\u001b[0m\u001b[0;34m)\u001b[0m  \u001b[0;31m# type: ignore[misc]\u001b[0m\u001b[0;34m\u001b[0m\u001b[0;34m\u001b[0m\u001b[0m\n\u001b[0m\u001b[1;32m    236\u001b[0m     \u001b[0;32mreturn\u001b[0m \u001b[0m_evaluate_standard\u001b[0m\u001b[0;34m(\u001b[0m\u001b[0mop\u001b[0m\u001b[0;34m,\u001b[0m \u001b[0mop_str\u001b[0m\u001b[0;34m,\u001b[0m \u001b[0ma\u001b[0m\u001b[0;34m,\u001b[0m \u001b[0mb\u001b[0m\u001b[0;34m)\u001b[0m\u001b[0;34m\u001b[0m\u001b[0;34m\u001b[0m\u001b[0m\n",
      "\u001b[0;32m/srv/conda/envs/notebook/lib/python3.8/site-packages/pandas/core/computation/expressions.py\u001b[0m in \u001b[0;36m_evaluate_standard\u001b[0;34m(op, op_str, a, b)\u001b[0m\n\u001b[1;32m     68\u001b[0m     \u001b[0;32mwith\u001b[0m \u001b[0mnp\u001b[0m\u001b[0;34m.\u001b[0m\u001b[0merrstate\u001b[0m\u001b[0;34m(\u001b[0m\u001b[0mall\u001b[0m\u001b[0;34m=\u001b[0m\u001b[0;34m\"ignore\"\u001b[0m\u001b[0;34m)\u001b[0m\u001b[0;34m:\u001b[0m\u001b[0;34m\u001b[0m\u001b[0;34m\u001b[0m\u001b[0m\n\u001b[0;32m---> 69\u001b[0;31m         \u001b[0;32mreturn\u001b[0m \u001b[0mop\u001b[0m\u001b[0;34m(\u001b[0m\u001b[0ma\u001b[0m\u001b[0;34m,\u001b[0m \u001b[0mb\u001b[0m\u001b[0;34m)\u001b[0m\u001b[0;34m\u001b[0m\u001b[0;34m\u001b[0m\u001b[0m\n\u001b[0m\u001b[1;32m     70\u001b[0m \u001b[0;34m\u001b[0m\u001b[0m\n",
      "\u001b[0;31mUFuncTypeError\u001b[0m: ufunc 'subtract' did not contain a loop with signature matching types (dtype('<U32'), dtype('<U32')) -> dtype('<U32')",
      "\nDuring handling of the above exception, another exception occurred:\n",
      "\u001b[0;31mUFuncTypeError\u001b[0m                            Traceback (most recent call last)",
      "\u001b[0;32m<ipython-input-117-4aef4762d5ad>\u001b[0m in \u001b[0;36m<module>\u001b[0;34m\u001b[0m\n\u001b[1;32m      3\u001b[0m \u001b[0;34m\u001b[0m\u001b[0m\n\u001b[1;32m      4\u001b[0m \u001b[0;32mfor\u001b[0m \u001b[0mi\u001b[0m \u001b[0;32min\u001b[0m \u001b[0mrange\u001b[0m\u001b[0;34m(\u001b[0m\u001b[0mlen\u001b[0m\u001b[0;34m(\u001b[0m\u001b[0maph\u001b[0m\u001b[0;34m.\u001b[0m\u001b[0mindex\u001b[0m\u001b[0;34m)\u001b[0m\u001b[0;34m)\u001b[0m\u001b[0;34m:\u001b[0m\u001b[0;34m\u001b[0m\u001b[0;34m\u001b[0m\u001b[0m\n\u001b[0;32m----> 5\u001b[0;31m     \u001b[0mclosest_row\u001b[0m \u001b[0;34m=\u001b[0m \u001b[0macs_ap_noscattcorr\u001b[0m\u001b[0;34m.\u001b[0m\u001b[0miloc\u001b[0m\u001b[0;34m[\u001b[0m\u001b[0;34m(\u001b[0m\u001b[0macs_ap_noscattcorr\u001b[0m\u001b[0;34m[\u001b[0m\u001b[0;34m'wv'\u001b[0m\u001b[0;34m]\u001b[0m \u001b[0;34m-\u001b[0m \u001b[0maph\u001b[0m\u001b[0;34m.\u001b[0m\u001b[0mindex\u001b[0m\u001b[0;34m[\u001b[0m\u001b[0mi\u001b[0m\u001b[0;34m]\u001b[0m\u001b[0;34m)\u001b[0m\u001b[0;34m.\u001b[0m\u001b[0mabs\u001b[0m\u001b[0;34m(\u001b[0m\u001b[0;34m)\u001b[0m\u001b[0;34m.\u001b[0m\u001b[0margsort\u001b[0m\u001b[0;34m(\u001b[0m\u001b[0;34m)\u001b[0m\u001b[0;34m[\u001b[0m\u001b[0;34m:\u001b[0m\u001b[0;36m1\u001b[0m\u001b[0;34m]\u001b[0m\u001b[0;34m]\u001b[0m\u001b[0;34m\u001b[0m\u001b[0;34m\u001b[0m\u001b[0m\n\u001b[0m\u001b[1;32m      6\u001b[0m     \u001b[0;31m#print(closest_row)\u001b[0m\u001b[0;34m\u001b[0m\u001b[0;34m\u001b[0m\u001b[0;34m\u001b[0m\u001b[0m\n\u001b[1;32m      7\u001b[0m     \u001b[0mfoo\u001b[0m\u001b[0;34m.\u001b[0m\u001b[0mappend\u001b[0m\u001b[0;34m(\u001b[0m\u001b[0mclosest_row\u001b[0m\u001b[0;34m)\u001b[0m\u001b[0;34m\u001b[0m\u001b[0;34m\u001b[0m\u001b[0m\n",
      "\u001b[0;32m/srv/conda/envs/notebook/lib/python3.8/site-packages/pandas/core/ops/common.py\u001b[0m in \u001b[0;36mnew_method\u001b[0;34m(self, other)\u001b[0m\n\u001b[1;32m     63\u001b[0m         \u001b[0mother\u001b[0m \u001b[0;34m=\u001b[0m \u001b[0mitem_from_zerodim\u001b[0m\u001b[0;34m(\u001b[0m\u001b[0mother\u001b[0m\u001b[0;34m)\u001b[0m\u001b[0;34m\u001b[0m\u001b[0;34m\u001b[0m\u001b[0m\n\u001b[1;32m     64\u001b[0m \u001b[0;34m\u001b[0m\u001b[0m\n\u001b[0;32m---> 65\u001b[0;31m         \u001b[0;32mreturn\u001b[0m \u001b[0mmethod\u001b[0m\u001b[0;34m(\u001b[0m\u001b[0mself\u001b[0m\u001b[0;34m,\u001b[0m \u001b[0mother\u001b[0m\u001b[0;34m)\u001b[0m\u001b[0;34m\u001b[0m\u001b[0;34m\u001b[0m\u001b[0m\n\u001b[0m\u001b[1;32m     66\u001b[0m \u001b[0;34m\u001b[0m\u001b[0m\n\u001b[1;32m     67\u001b[0m     \u001b[0;32mreturn\u001b[0m \u001b[0mnew_method\u001b[0m\u001b[0;34m\u001b[0m\u001b[0;34m\u001b[0m\u001b[0m\n",
      "\u001b[0;32m/srv/conda/envs/notebook/lib/python3.8/site-packages/pandas/core/arraylike.py\u001b[0m in \u001b[0;36m__sub__\u001b[0;34m(self, other)\u001b[0m\n\u001b[1;32m     95\u001b[0m     \u001b[0;34m@\u001b[0m\u001b[0munpack_zerodim_and_defer\u001b[0m\u001b[0;34m(\u001b[0m\u001b[0;34m\"__sub__\"\u001b[0m\u001b[0;34m)\u001b[0m\u001b[0;34m\u001b[0m\u001b[0;34m\u001b[0m\u001b[0m\n\u001b[1;32m     96\u001b[0m     \u001b[0;32mdef\u001b[0m \u001b[0m__sub__\u001b[0m\u001b[0;34m(\u001b[0m\u001b[0mself\u001b[0m\u001b[0;34m,\u001b[0m \u001b[0mother\u001b[0m\u001b[0;34m)\u001b[0m\u001b[0;34m:\u001b[0m\u001b[0;34m\u001b[0m\u001b[0;34m\u001b[0m\u001b[0m\n\u001b[0;32m---> 97\u001b[0;31m         \u001b[0;32mreturn\u001b[0m \u001b[0mself\u001b[0m\u001b[0;34m.\u001b[0m\u001b[0m_arith_method\u001b[0m\u001b[0;34m(\u001b[0m\u001b[0mother\u001b[0m\u001b[0;34m,\u001b[0m \u001b[0moperator\u001b[0m\u001b[0;34m.\u001b[0m\u001b[0msub\u001b[0m\u001b[0;34m)\u001b[0m\u001b[0;34m\u001b[0m\u001b[0;34m\u001b[0m\u001b[0m\n\u001b[0m\u001b[1;32m     98\u001b[0m \u001b[0;34m\u001b[0m\u001b[0m\n\u001b[1;32m     99\u001b[0m     \u001b[0;34m@\u001b[0m\u001b[0munpack_zerodim_and_defer\u001b[0m\u001b[0;34m(\u001b[0m\u001b[0;34m\"__rsub__\"\u001b[0m\u001b[0;34m)\u001b[0m\u001b[0;34m\u001b[0m\u001b[0;34m\u001b[0m\u001b[0m\n",
      "\u001b[0;32m/srv/conda/envs/notebook/lib/python3.8/site-packages/pandas/core/series.py\u001b[0m in \u001b[0;36m_arith_method\u001b[0;34m(self, other, op)\u001b[0m\n\u001b[1;32m   4996\u001b[0m         \u001b[0mlvalues\u001b[0m \u001b[0;34m=\u001b[0m \u001b[0mextract_array\u001b[0m\u001b[0;34m(\u001b[0m\u001b[0mself\u001b[0m\u001b[0;34m,\u001b[0m \u001b[0mextract_numpy\u001b[0m\u001b[0;34m=\u001b[0m\u001b[0;32mTrue\u001b[0m\u001b[0;34m)\u001b[0m\u001b[0;34m\u001b[0m\u001b[0;34m\u001b[0m\u001b[0m\n\u001b[1;32m   4997\u001b[0m         \u001b[0mrvalues\u001b[0m \u001b[0;34m=\u001b[0m \u001b[0mextract_array\u001b[0m\u001b[0;34m(\u001b[0m\u001b[0mother\u001b[0m\u001b[0;34m,\u001b[0m \u001b[0mextract_numpy\u001b[0m\u001b[0;34m=\u001b[0m\u001b[0;32mTrue\u001b[0m\u001b[0;34m)\u001b[0m\u001b[0;34m\u001b[0m\u001b[0;34m\u001b[0m\u001b[0m\n\u001b[0;32m-> 4998\u001b[0;31m         \u001b[0mresult\u001b[0m \u001b[0;34m=\u001b[0m \u001b[0mops\u001b[0m\u001b[0;34m.\u001b[0m\u001b[0marithmetic_op\u001b[0m\u001b[0;34m(\u001b[0m\u001b[0mlvalues\u001b[0m\u001b[0;34m,\u001b[0m \u001b[0mrvalues\u001b[0m\u001b[0;34m,\u001b[0m \u001b[0mop\u001b[0m\u001b[0;34m)\u001b[0m\u001b[0;34m\u001b[0m\u001b[0;34m\u001b[0m\u001b[0m\n\u001b[0m\u001b[1;32m   4999\u001b[0m \u001b[0;34m\u001b[0m\u001b[0m\n\u001b[1;32m   5000\u001b[0m         \u001b[0;32mreturn\u001b[0m \u001b[0mself\u001b[0m\u001b[0;34m.\u001b[0m\u001b[0m_construct_result\u001b[0m\u001b[0;34m(\u001b[0m\u001b[0mresult\u001b[0m\u001b[0;34m,\u001b[0m \u001b[0mname\u001b[0m\u001b[0;34m=\u001b[0m\u001b[0mres_name\u001b[0m\u001b[0;34m)\u001b[0m\u001b[0;34m\u001b[0m\u001b[0;34m\u001b[0m\u001b[0m\n",
      "\u001b[0;32m/srv/conda/envs/notebook/lib/python3.8/site-packages/pandas/core/ops/array_ops.py\u001b[0m in \u001b[0;36marithmetic_op\u001b[0;34m(left, right, op)\u001b[0m\n\u001b[1;32m    187\u001b[0m     \u001b[0;32melse\u001b[0m\u001b[0;34m:\u001b[0m\u001b[0;34m\u001b[0m\u001b[0;34m\u001b[0m\u001b[0m\n\u001b[1;32m    188\u001b[0m         \u001b[0;32mwith\u001b[0m \u001b[0mnp\u001b[0m\u001b[0;34m.\u001b[0m\u001b[0merrstate\u001b[0m\u001b[0;34m(\u001b[0m\u001b[0mall\u001b[0m\u001b[0;34m=\u001b[0m\u001b[0;34m\"ignore\"\u001b[0m\u001b[0;34m)\u001b[0m\u001b[0;34m:\u001b[0m\u001b[0;34m\u001b[0m\u001b[0;34m\u001b[0m\u001b[0m\n\u001b[0;32m--> 189\u001b[0;31m             \u001b[0mres_values\u001b[0m \u001b[0;34m=\u001b[0m \u001b[0m_na_arithmetic_op\u001b[0m\u001b[0;34m(\u001b[0m\u001b[0mlvalues\u001b[0m\u001b[0;34m,\u001b[0m \u001b[0mrvalues\u001b[0m\u001b[0;34m,\u001b[0m \u001b[0mop\u001b[0m\u001b[0;34m)\u001b[0m\u001b[0;34m\u001b[0m\u001b[0;34m\u001b[0m\u001b[0m\n\u001b[0m\u001b[1;32m    190\u001b[0m \u001b[0;34m\u001b[0m\u001b[0m\n\u001b[1;32m    191\u001b[0m     \u001b[0;32mreturn\u001b[0m \u001b[0mres_values\u001b[0m\u001b[0;34m\u001b[0m\u001b[0;34m\u001b[0m\u001b[0m\n",
      "\u001b[0;32m/srv/conda/envs/notebook/lib/python3.8/site-packages/pandas/core/ops/array_ops.py\u001b[0m in \u001b[0;36m_na_arithmetic_op\u001b[0;34m(left, right, op, is_cmp)\u001b[0m\n\u001b[1;32m    147\u001b[0m             \u001b[0;31m#  will handle complex numbers incorrectly, see GH#32047\u001b[0m\u001b[0;34m\u001b[0m\u001b[0;34m\u001b[0m\u001b[0;34m\u001b[0m\u001b[0m\n\u001b[1;32m    148\u001b[0m             \u001b[0;32mraise\u001b[0m\u001b[0;34m\u001b[0m\u001b[0;34m\u001b[0m\u001b[0m\n\u001b[0;32m--> 149\u001b[0;31m         \u001b[0mresult\u001b[0m \u001b[0;34m=\u001b[0m \u001b[0m_masked_arith_op\u001b[0m\u001b[0;34m(\u001b[0m\u001b[0mleft\u001b[0m\u001b[0;34m,\u001b[0m \u001b[0mright\u001b[0m\u001b[0;34m,\u001b[0m \u001b[0mop\u001b[0m\u001b[0;34m)\u001b[0m\u001b[0;34m\u001b[0m\u001b[0;34m\u001b[0m\u001b[0m\n\u001b[0m\u001b[1;32m    150\u001b[0m \u001b[0;34m\u001b[0m\u001b[0m\n\u001b[1;32m    151\u001b[0m     \u001b[0;32mif\u001b[0m \u001b[0mis_cmp\u001b[0m \u001b[0;32mand\u001b[0m \u001b[0;34m(\u001b[0m\u001b[0mis_scalar\u001b[0m\u001b[0;34m(\u001b[0m\u001b[0mresult\u001b[0m\u001b[0;34m)\u001b[0m \u001b[0;32mor\u001b[0m \u001b[0mresult\u001b[0m \u001b[0;32mis\u001b[0m \u001b[0mNotImplemented\u001b[0m\u001b[0;34m)\u001b[0m\u001b[0;34m:\u001b[0m\u001b[0;34m\u001b[0m\u001b[0;34m\u001b[0m\u001b[0m\n",
      "\u001b[0;32m/srv/conda/envs/notebook/lib/python3.8/site-packages/pandas/core/ops/array_ops.py\u001b[0m in \u001b[0;36m_masked_arith_op\u001b[0;34m(x, y, op)\u001b[0m\n\u001b[1;32m    109\u001b[0m         \u001b[0;32mif\u001b[0m \u001b[0mmask\u001b[0m\u001b[0;34m.\u001b[0m\u001b[0many\u001b[0m\u001b[0;34m(\u001b[0m\u001b[0;34m)\u001b[0m\u001b[0;34m:\u001b[0m\u001b[0;34m\u001b[0m\u001b[0;34m\u001b[0m\u001b[0m\n\u001b[1;32m    110\u001b[0m             \u001b[0;32mwith\u001b[0m \u001b[0mnp\u001b[0m\u001b[0;34m.\u001b[0m\u001b[0merrstate\u001b[0m\u001b[0;34m(\u001b[0m\u001b[0mall\u001b[0m\u001b[0;34m=\u001b[0m\u001b[0;34m\"ignore\"\u001b[0m\u001b[0;34m)\u001b[0m\u001b[0;34m:\u001b[0m\u001b[0;34m\u001b[0m\u001b[0;34m\u001b[0m\u001b[0m\n\u001b[0;32m--> 111\u001b[0;31m                 \u001b[0mresult\u001b[0m\u001b[0;34m[\u001b[0m\u001b[0mmask\u001b[0m\u001b[0;34m]\u001b[0m \u001b[0;34m=\u001b[0m \u001b[0mop\u001b[0m\u001b[0;34m(\u001b[0m\u001b[0mxrav\u001b[0m\u001b[0;34m[\u001b[0m\u001b[0mmask\u001b[0m\u001b[0;34m]\u001b[0m\u001b[0;34m,\u001b[0m \u001b[0my\u001b[0m\u001b[0;34m)\u001b[0m\u001b[0;34m\u001b[0m\u001b[0;34m\u001b[0m\u001b[0m\n\u001b[0m\u001b[1;32m    112\u001b[0m \u001b[0;34m\u001b[0m\u001b[0m\n\u001b[1;32m    113\u001b[0m     \u001b[0mresult\u001b[0m\u001b[0;34m,\u001b[0m \u001b[0m_\u001b[0m \u001b[0;34m=\u001b[0m \u001b[0mmaybe_upcast_putmask\u001b[0m\u001b[0;34m(\u001b[0m\u001b[0mresult\u001b[0m\u001b[0;34m,\u001b[0m \u001b[0;34m~\u001b[0m\u001b[0mmask\u001b[0m\u001b[0;34m,\u001b[0m \u001b[0mnp\u001b[0m\u001b[0;34m.\u001b[0m\u001b[0mnan\u001b[0m\u001b[0;34m)\u001b[0m\u001b[0;34m\u001b[0m\u001b[0;34m\u001b[0m\u001b[0m\n",
      "\u001b[0;31mUFuncTypeError\u001b[0m: ufunc 'subtract' did not contain a loop with signature matching types (dtype('<U32'), dtype('<U32')) -> dtype('<U32')"
     ]
    }
   ],
   "source": [
    "# find rows with closest wavelengths to acs wavelengths\n",
    "foo=[]\n",
    "\n",
    "for i in range(len(aph.index)):\n",
    "    closest_row = acs_ap_noscattcorr.iloc[(acs_ap_noscattcorr['wv'] - aph.index[i]).abs().argsort()[:1]]\n",
    "    #print(closest_row)\n",
    "    foo.append(closest_row)\n",
    "\n",
    "foo = pd.concat(foo)\n",
    "print(foo.head())"
   ]
  },
  {
   "cell_type": "code",
   "execution_count": 99,
   "id": "33509c32-31b3-4e16-b27f-d09b596934e4",
   "metadata": {},
   "outputs": [
    {
     "ename": "ValueError",
     "evalue": "x and y must have same first dimension, but have shapes (80, 2) and (531,)",
     "output_type": "error",
     "traceback": [
      "\u001b[0;31m---------------------------------------------------------------------------\u001b[0m",
      "\u001b[0;31mValueError\u001b[0m                                Traceback (most recent call last)",
      "\u001b[0;32m<ipython-input-99-40e174b93b31>\u001b[0m in \u001b[0;36m<module>\u001b[0;34m\u001b[0m\n\u001b[0;32m----> 1\u001b[0;31m \u001b[0mplt\u001b[0m\u001b[0;34m.\u001b[0m\u001b[0mplot\u001b[0m\u001b[0;34m(\u001b[0m\u001b[0macs_ap_noscattcorr\u001b[0m\u001b[0;34m,\u001b[0m \u001b[0maph\u001b[0m\u001b[0;34m)\u001b[0m\u001b[0;34m\u001b[0m\u001b[0;34m\u001b[0m\u001b[0m\n\u001b[0m",
      "\u001b[0;32m/srv/conda/envs/notebook/lib/python3.8/site-packages/matplotlib/pyplot.py\u001b[0m in \u001b[0;36mplot\u001b[0;34m(scalex, scaley, data, *args, **kwargs)\u001b[0m\n\u001b[1;32m   3017\u001b[0m \u001b[0;34m@\u001b[0m\u001b[0m_copy_docstring_and_deprecators\u001b[0m\u001b[0;34m(\u001b[0m\u001b[0mAxes\u001b[0m\u001b[0;34m.\u001b[0m\u001b[0mplot\u001b[0m\u001b[0;34m)\u001b[0m\u001b[0;34m\u001b[0m\u001b[0;34m\u001b[0m\u001b[0m\n\u001b[1;32m   3018\u001b[0m \u001b[0;32mdef\u001b[0m \u001b[0mplot\u001b[0m\u001b[0;34m(\u001b[0m\u001b[0;34m*\u001b[0m\u001b[0margs\u001b[0m\u001b[0;34m,\u001b[0m \u001b[0mscalex\u001b[0m\u001b[0;34m=\u001b[0m\u001b[0;32mTrue\u001b[0m\u001b[0;34m,\u001b[0m \u001b[0mscaley\u001b[0m\u001b[0;34m=\u001b[0m\u001b[0;32mTrue\u001b[0m\u001b[0;34m,\u001b[0m \u001b[0mdata\u001b[0m\u001b[0;34m=\u001b[0m\u001b[0;32mNone\u001b[0m\u001b[0;34m,\u001b[0m \u001b[0;34m**\u001b[0m\u001b[0mkwargs\u001b[0m\u001b[0;34m)\u001b[0m\u001b[0;34m:\u001b[0m\u001b[0;34m\u001b[0m\u001b[0;34m\u001b[0m\u001b[0m\n\u001b[0;32m-> 3019\u001b[0;31m     return gca().plot(\n\u001b[0m\u001b[1;32m   3020\u001b[0m         \u001b[0;34m*\u001b[0m\u001b[0margs\u001b[0m\u001b[0;34m,\u001b[0m \u001b[0mscalex\u001b[0m\u001b[0;34m=\u001b[0m\u001b[0mscalex\u001b[0m\u001b[0;34m,\u001b[0m \u001b[0mscaley\u001b[0m\u001b[0;34m=\u001b[0m\u001b[0mscaley\u001b[0m\u001b[0;34m,\u001b[0m\u001b[0;34m\u001b[0m\u001b[0;34m\u001b[0m\u001b[0m\n\u001b[1;32m   3021\u001b[0m         **({\"data\": data} if data is not None else {}), **kwargs)\n",
      "\u001b[0;32m/srv/conda/envs/notebook/lib/python3.8/site-packages/matplotlib/axes/_axes.py\u001b[0m in \u001b[0;36mplot\u001b[0;34m(self, scalex, scaley, data, *args, **kwargs)\u001b[0m\n\u001b[1;32m   1603\u001b[0m         \"\"\"\n\u001b[1;32m   1604\u001b[0m         \u001b[0mkwargs\u001b[0m \u001b[0;34m=\u001b[0m \u001b[0mcbook\u001b[0m\u001b[0;34m.\u001b[0m\u001b[0mnormalize_kwargs\u001b[0m\u001b[0;34m(\u001b[0m\u001b[0mkwargs\u001b[0m\u001b[0;34m,\u001b[0m \u001b[0mmlines\u001b[0m\u001b[0;34m.\u001b[0m\u001b[0mLine2D\u001b[0m\u001b[0;34m)\u001b[0m\u001b[0;34m\u001b[0m\u001b[0;34m\u001b[0m\u001b[0m\n\u001b[0;32m-> 1605\u001b[0;31m         \u001b[0mlines\u001b[0m \u001b[0;34m=\u001b[0m \u001b[0;34m[\u001b[0m\u001b[0;34m*\u001b[0m\u001b[0mself\u001b[0m\u001b[0;34m.\u001b[0m\u001b[0m_get_lines\u001b[0m\u001b[0;34m(\u001b[0m\u001b[0;34m*\u001b[0m\u001b[0margs\u001b[0m\u001b[0;34m,\u001b[0m \u001b[0mdata\u001b[0m\u001b[0;34m=\u001b[0m\u001b[0mdata\u001b[0m\u001b[0;34m,\u001b[0m \u001b[0;34m**\u001b[0m\u001b[0mkwargs\u001b[0m\u001b[0;34m)\u001b[0m\u001b[0;34m]\u001b[0m\u001b[0;34m\u001b[0m\u001b[0;34m\u001b[0m\u001b[0m\n\u001b[0m\u001b[1;32m   1606\u001b[0m         \u001b[0;32mfor\u001b[0m \u001b[0mline\u001b[0m \u001b[0;32min\u001b[0m \u001b[0mlines\u001b[0m\u001b[0;34m:\u001b[0m\u001b[0;34m\u001b[0m\u001b[0;34m\u001b[0m\u001b[0m\n\u001b[1;32m   1607\u001b[0m             \u001b[0mself\u001b[0m\u001b[0;34m.\u001b[0m\u001b[0madd_line\u001b[0m\u001b[0;34m(\u001b[0m\u001b[0mline\u001b[0m\u001b[0;34m)\u001b[0m\u001b[0;34m\u001b[0m\u001b[0;34m\u001b[0m\u001b[0m\n",
      "\u001b[0;32m/srv/conda/envs/notebook/lib/python3.8/site-packages/matplotlib/axes/_base.py\u001b[0m in \u001b[0;36m__call__\u001b[0;34m(self, data, *args, **kwargs)\u001b[0m\n\u001b[1;32m    313\u001b[0m                 \u001b[0mthis\u001b[0m \u001b[0;34m+=\u001b[0m \u001b[0margs\u001b[0m\u001b[0;34m[\u001b[0m\u001b[0;36m0\u001b[0m\u001b[0;34m]\u001b[0m\u001b[0;34m,\u001b[0m\u001b[0;34m\u001b[0m\u001b[0;34m\u001b[0m\u001b[0m\n\u001b[1;32m    314\u001b[0m                 \u001b[0margs\u001b[0m \u001b[0;34m=\u001b[0m \u001b[0margs\u001b[0m\u001b[0;34m[\u001b[0m\u001b[0;36m1\u001b[0m\u001b[0;34m:\u001b[0m\u001b[0;34m]\u001b[0m\u001b[0;34m\u001b[0m\u001b[0;34m\u001b[0m\u001b[0m\n\u001b[0;32m--> 315\u001b[0;31m             \u001b[0;32myield\u001b[0m \u001b[0;32mfrom\u001b[0m \u001b[0mself\u001b[0m\u001b[0;34m.\u001b[0m\u001b[0m_plot_args\u001b[0m\u001b[0;34m(\u001b[0m\u001b[0mthis\u001b[0m\u001b[0;34m,\u001b[0m \u001b[0mkwargs\u001b[0m\u001b[0;34m)\u001b[0m\u001b[0;34m\u001b[0m\u001b[0;34m\u001b[0m\u001b[0m\n\u001b[0m\u001b[1;32m    316\u001b[0m \u001b[0;34m\u001b[0m\u001b[0m\n\u001b[1;32m    317\u001b[0m     \u001b[0;32mdef\u001b[0m \u001b[0mget_next_color\u001b[0m\u001b[0;34m(\u001b[0m\u001b[0mself\u001b[0m\u001b[0;34m)\u001b[0m\u001b[0;34m:\u001b[0m\u001b[0;34m\u001b[0m\u001b[0;34m\u001b[0m\u001b[0m\n",
      "\u001b[0;32m/srv/conda/envs/notebook/lib/python3.8/site-packages/matplotlib/axes/_base.py\u001b[0m in \u001b[0;36m_plot_args\u001b[0;34m(self, tup, kwargs, return_kwargs)\u001b[0m\n\u001b[1;32m    499\u001b[0m \u001b[0;34m\u001b[0m\u001b[0m\n\u001b[1;32m    500\u001b[0m         \u001b[0;32mif\u001b[0m \u001b[0mx\u001b[0m\u001b[0;34m.\u001b[0m\u001b[0mshape\u001b[0m\u001b[0;34m[\u001b[0m\u001b[0;36m0\u001b[0m\u001b[0;34m]\u001b[0m \u001b[0;34m!=\u001b[0m \u001b[0my\u001b[0m\u001b[0;34m.\u001b[0m\u001b[0mshape\u001b[0m\u001b[0;34m[\u001b[0m\u001b[0;36m0\u001b[0m\u001b[0;34m]\u001b[0m\u001b[0;34m:\u001b[0m\u001b[0;34m\u001b[0m\u001b[0;34m\u001b[0m\u001b[0m\n\u001b[0;32m--> 501\u001b[0;31m             raise ValueError(f\"x and y must have same first dimension, but \"\n\u001b[0m\u001b[1;32m    502\u001b[0m                              f\"have shapes {x.shape} and {y.shape}\")\n\u001b[1;32m    503\u001b[0m         \u001b[0;32mif\u001b[0m \u001b[0mx\u001b[0m\u001b[0;34m.\u001b[0m\u001b[0mndim\u001b[0m \u001b[0;34m>\u001b[0m \u001b[0;36m2\u001b[0m \u001b[0;32mor\u001b[0m \u001b[0my\u001b[0m\u001b[0;34m.\u001b[0m\u001b[0mndim\u001b[0m \u001b[0;34m>\u001b[0m \u001b[0;36m2\u001b[0m\u001b[0;34m:\u001b[0m\u001b[0;34m\u001b[0m\u001b[0;34m\u001b[0m\u001b[0m\n",
      "\u001b[0;31mValueError\u001b[0m: x and y must have same first dimension, but have shapes (80, 2) and (531,)"
     ]
    },
    {
     "data": {
      "image/png": "[encoded data removed]",
      "text/plain": [
       "<Figure size 432x288 with 1 Axes>"
      ]
     },
     "metadata": {
      "needs_background": "light"
     },
     "output_type": "display_data"
    }
   ],
   "source": [
    "plt.plot(acs_ap_noscattcorr, aph)"
   ]
  },
  {
   "cell_type": "code",
   "execution_count": null,
   "id": "d4fa2282-c840-4aab-aa59-ffebe67981f4",
   "metadata": {},
   "outputs": [],
   "source": []
  }
 ],
 "metadata": {
  "kernelspec": {
   "display_name": "Python 3",
   "language": "python",
   "name": "python3"
  },
  "language_info": {
   "codemirror_mode": {
    "name": "ipython",
    "version": 3
   },
   "file_extension": ".py",
   "mimetype": "text/x-python",
   "name": "python",
   "nbconvert_exporter": "python",
   "pygments_lexer": "ipython3",
   "version": "3.8.10"
  }
 },
 "nbformat": 4,
 "nbformat_minor": 5
}
